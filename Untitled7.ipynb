{
  "nbformat": 4,
  "nbformat_minor": 0,
  "metadata": {
    "colab": {
      "name": "Untitled7.ipynb",
      "provenance": [],
      "authorship_tag": "ABX9TyMAWQkYiUExIpWQzHa0hrLU"
    },
    "kernelspec": {
      "name": "python3",
      "display_name": "Python 3"
    },
    "language_info": {
      "name": "python"
    },
    "widgets": {
      "application/vnd.jupyter.widget-state+json": {
        "220502387c694b9189cc2e783e9ceb26": {
          "model_module": "@jupyter-widgets/controls",
          "model_name": "VBoxModel",
          "state": {
            "_view_name": "VBoxView",
            "_dom_classes": [],
            "_model_name": "VBoxModel",
            "_view_module": "@jupyter-widgets/controls",
            "_model_module_version": "1.5.0",
            "_view_count": null,
            "_view_module_version": "1.5.0",
            "box_style": "",
            "layout": "IPY_MODEL_5a922dd006c74e94afb7d59249c7bddf",
            "_model_module": "@jupyter-widgets/controls",
            "children": [
              "IPY_MODEL_a294fcdaf9d142149406a4e74d98918b",
              "IPY_MODEL_021a94bf04164f8a9be80d92ff2d9e97",
              "IPY_MODEL_84e6e0de31344d88961555718a02ea82",
              "IPY_MODEL_779378193a9c47d99332504d120d5bfd"
            ]
          }
        },
        "5a922dd006c74e94afb7d59249c7bddf": {
          "model_module": "@jupyter-widgets/base",
          "model_name": "LayoutModel",
          "state": {
            "_view_name": "LayoutView",
            "grid_template_rows": null,
            "right": null,
            "justify_content": null,
            "_view_module": "@jupyter-widgets/base",
            "overflow": null,
            "_model_module_version": "1.2.0",
            "_view_count": null,
            "flex_flow": null,
            "width": null,
            "min_width": null,
            "border": null,
            "align_items": null,
            "bottom": null,
            "_model_module": "@jupyter-widgets/base",
            "top": null,
            "grid_column": null,
            "overflow_y": null,
            "overflow_x": null,
            "grid_auto_flow": null,
            "grid_area": null,
            "grid_template_columns": null,
            "flex": null,
            "_model_name": "LayoutModel",
            "justify_items": null,
            "grid_row": null,
            "max_height": null,
            "align_content": null,
            "visibility": null,
            "align_self": null,
            "height": null,
            "min_height": null,
            "padding": null,
            "grid_auto_rows": null,
            "grid_gap": null,
            "max_width": null,
            "order": null,
            "_view_module_version": "1.2.0",
            "grid_template_areas": null,
            "object_position": null,
            "object_fit": null,
            "grid_auto_columns": null,
            "margin": null,
            "display": null,
            "left": null
          }
        },
        "a294fcdaf9d142149406a4e74d98918b": {
          "model_module": "@jupyter-widgets/controls",
          "model_name": "LabelModel",
          "state": {
            "_view_name": "LabelView",
            "style": "IPY_MODEL_d5897a2343f84691b8c014dc8db8ad71",
            "_dom_classes": [],
            "description": "",
            "_model_name": "LabelModel",
            "placeholder": "​",
            "_view_module": "@jupyter-widgets/controls",
            "_model_module_version": "1.5.0",
            "value": "Man or Woman?",
            "_view_count": null,
            "_view_module_version": "1.5.0",
            "description_tooltip": null,
            "_model_module": "@jupyter-widgets/controls",
            "layout": "IPY_MODEL_702fa22887a24c438f28854a406ac94b"
          }
        },
        "021a94bf04164f8a9be80d92ff2d9e97": {
          "model_module": "@jupyter-widgets/controls",
          "model_name": "FileUploadModel",
          "state": {
            "_view_name": "FileUploadView",
            "_counter": 2,
            "style": "IPY_MODEL_50d1759786934d2d8f98081440021571",
            "_dom_classes": [],
            "description": "Upload",
            "multiple": false,
            "_model_name": "FileUploadModel",
            "data": [
              null
            ],
            "button_style": "",
            "_view_module": "@jupyter-widgets/controls",
            "_model_module_version": "1.5.0",
            "accept": "",
            "_view_count": null,
            "disabled": false,
            "_view_module_version": "1.5.0",
            "error": "",
            "description_tooltip": null,
            "metadata": [
              {
                "name": "download.jpeg",
                "type": "image/jpeg",
                "size": 5930,
                "lastModified": 1624193252019
              }
            ],
            "_model_module": "@jupyter-widgets/controls",
            "layout": "IPY_MODEL_1cdf16d6cfa2455e94fb9bbdc003888e",
            "icon": "upload"
          }
        },
        "84e6e0de31344d88961555718a02ea82": {
          "model_module": "@jupyter-widgets/output",
          "model_name": "OutputModel",
          "state": {
            "_view_name": "OutputView",
            "msg_id": "",
            "_dom_classes": [],
            "_model_name": "OutputModel",
            "outputs": [
              {
                "output_type": "display_data",
                "metadata": {
                  "tags": []
                },
                "image/png": "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\n",
                "text/plain": "<PIL.Image.Image image mode=RGB size=128x85 at 0x7F12ED1849D0>"
              }
            ],
            "_view_module": "@jupyter-widgets/output",
            "_model_module_version": "1.0.0",
            "_view_count": null,
            "_view_module_version": "1.0.0",
            "layout": "IPY_MODEL_48081550fd7d44508a4268097817be28",
            "_model_module": "@jupyter-widgets/output"
          }
        },
        "779378193a9c47d99332504d120d5bfd": {
          "model_module": "@jupyter-widgets/controls",
          "model_name": "LabelModel",
          "state": {
            "_view_name": "LabelView",
            "style": "IPY_MODEL_7d5d1c91f1ee4655a175b353d0b1c98a",
            "_dom_classes": [],
            "description": "",
            "_model_name": "LabelModel",
            "placeholder": "​",
            "_view_module": "@jupyter-widgets/controls",
            "_model_module_version": "1.5.0",
            "value": "Prediction: woman face; Probability: 0.9946",
            "_view_count": null,
            "_view_module_version": "1.5.0",
            "description_tooltip": null,
            "_model_module": "@jupyter-widgets/controls",
            "layout": "IPY_MODEL_1826b397c0eb43b18a68d328f929d052"
          }
        },
        "d5897a2343f84691b8c014dc8db8ad71": {
          "model_module": "@jupyter-widgets/controls",
          "model_name": "DescriptionStyleModel",
          "state": {
            "_view_name": "StyleView",
            "_model_name": "DescriptionStyleModel",
            "description_width": "",
            "_view_module": "@jupyter-widgets/base",
            "_model_module_version": "1.5.0",
            "_view_count": null,
            "_view_module_version": "1.2.0",
            "_model_module": "@jupyter-widgets/controls"
          }
        },
        "702fa22887a24c438f28854a406ac94b": {
          "model_module": "@jupyter-widgets/base",
          "model_name": "LayoutModel",
          "state": {
            "_view_name": "LayoutView",
            "grid_template_rows": null,
            "right": null,
            "justify_content": null,
            "_view_module": "@jupyter-widgets/base",
            "overflow": null,
            "_model_module_version": "1.2.0",
            "_view_count": null,
            "flex_flow": null,
            "width": null,
            "min_width": null,
            "border": null,
            "align_items": null,
            "bottom": null,
            "_model_module": "@jupyter-widgets/base",
            "top": null,
            "grid_column": null,
            "overflow_y": null,
            "overflow_x": null,
            "grid_auto_flow": null,
            "grid_area": null,
            "grid_template_columns": null,
            "flex": null,
            "_model_name": "LayoutModel",
            "justify_items": null,
            "grid_row": null,
            "max_height": null,
            "align_content": null,
            "visibility": null,
            "align_self": null,
            "height": null,
            "min_height": null,
            "padding": null,
            "grid_auto_rows": null,
            "grid_gap": null,
            "max_width": null,
            "order": null,
            "_view_module_version": "1.2.0",
            "grid_template_areas": null,
            "object_position": null,
            "object_fit": null,
            "grid_auto_columns": null,
            "margin": null,
            "display": null,
            "left": null
          }
        },
        "50d1759786934d2d8f98081440021571": {
          "model_module": "@jupyter-widgets/controls",
          "model_name": "ButtonStyleModel",
          "state": {
            "_view_name": "StyleView",
            "_model_name": "ButtonStyleModel",
            "_view_module": "@jupyter-widgets/base",
            "_model_module_version": "1.5.0",
            "_view_count": null,
            "button_color": null,
            "font_weight": "",
            "_view_module_version": "1.2.0",
            "_model_module": "@jupyter-widgets/controls"
          }
        },
        "1cdf16d6cfa2455e94fb9bbdc003888e": {
          "model_module": "@jupyter-widgets/base",
          "model_name": "LayoutModel",
          "state": {
            "_view_name": "LayoutView",
            "grid_template_rows": null,
            "right": null,
            "justify_content": null,
            "_view_module": "@jupyter-widgets/base",
            "overflow": null,
            "_model_module_version": "1.2.0",
            "_view_count": null,
            "flex_flow": null,
            "width": null,
            "min_width": null,
            "border": null,
            "align_items": null,
            "bottom": null,
            "_model_module": "@jupyter-widgets/base",
            "top": null,
            "grid_column": null,
            "overflow_y": null,
            "overflow_x": null,
            "grid_auto_flow": null,
            "grid_area": null,
            "grid_template_columns": null,
            "flex": null,
            "_model_name": "LayoutModel",
            "justify_items": null,
            "grid_row": null,
            "max_height": null,
            "align_content": null,
            "visibility": null,
            "align_self": null,
            "height": null,
            "min_height": null,
            "padding": null,
            "grid_auto_rows": null,
            "grid_gap": null,
            "max_width": null,
            "order": null,
            "_view_module_version": "1.2.0",
            "grid_template_areas": null,
            "object_position": null,
            "object_fit": null,
            "grid_auto_columns": null,
            "margin": null,
            "display": null,
            "left": null
          }
        },
        "7d5d1c91f1ee4655a175b353d0b1c98a": {
          "model_module": "@jupyter-widgets/controls",
          "model_name": "DescriptionStyleModel",
          "state": {
            "_view_name": "StyleView",
            "_model_name": "DescriptionStyleModel",
            "description_width": "",
            "_view_module": "@jupyter-widgets/base",
            "_model_module_version": "1.5.0",
            "_view_count": null,
            "_view_module_version": "1.2.0",
            "_model_module": "@jupyter-widgets/controls"
          }
        },
        "1826b397c0eb43b18a68d328f929d052": {
          "model_module": "@jupyter-widgets/base",
          "model_name": "LayoutModel",
          "state": {
            "_view_name": "LayoutView",
            "grid_template_rows": null,
            "right": null,
            "justify_content": null,
            "_view_module": "@jupyter-widgets/base",
            "overflow": null,
            "_model_module_version": "1.2.0",
            "_view_count": null,
            "flex_flow": null,
            "width": null,
            "min_width": null,
            "border": null,
            "align_items": null,
            "bottom": null,
            "_model_module": "@jupyter-widgets/base",
            "top": null,
            "grid_column": null,
            "overflow_y": null,
            "overflow_x": null,
            "grid_auto_flow": null,
            "grid_area": null,
            "grid_template_columns": null,
            "flex": null,
            "_model_name": "LayoutModel",
            "justify_items": null,
            "grid_row": null,
            "max_height": null,
            "align_content": null,
            "visibility": null,
            "align_self": null,
            "height": null,
            "min_height": null,
            "padding": null,
            "grid_auto_rows": null,
            "grid_gap": null,
            "max_width": null,
            "order": null,
            "_view_module_version": "1.2.0",
            "grid_template_areas": null,
            "object_position": null,
            "object_fit": null,
            "grid_auto_columns": null,
            "margin": null,
            "display": null,
            "left": null
          }
        },
        "48081550fd7d44508a4268097817be28": {
          "model_module": "@jupyter-widgets/base",
          "model_name": "LayoutModel",
          "state": {
            "_view_name": "LayoutView",
            "grid_template_rows": null,
            "right": null,
            "justify_content": null,
            "_view_module": "@jupyter-widgets/base",
            "overflow": null,
            "_model_module_version": "1.2.0",
            "_view_count": null,
            "flex_flow": null,
            "width": null,
            "min_width": null,
            "border": null,
            "align_items": null,
            "bottom": null,
            "_model_module": "@jupyter-widgets/base",
            "top": null,
            "grid_column": null,
            "overflow_y": null,
            "overflow_x": null,
            "grid_auto_flow": null,
            "grid_area": null,
            "grid_template_columns": null,
            "flex": null,
            "_model_name": "LayoutModel",
            "justify_items": null,
            "grid_row": null,
            "max_height": null,
            "align_content": null,
            "visibility": null,
            "align_self": null,
            "height": null,
            "min_height": null,
            "padding": null,
            "grid_auto_rows": null,
            "grid_gap": null,
            "max_width": null,
            "order": null,
            "_view_module_version": "1.2.0",
            "grid_template_areas": null,
            "object_position": null,
            "object_fit": null,
            "grid_auto_columns": null,
            "margin": null,
            "display": null,
            "left": null
          }
        }
      }
    }
  },
  "cells": [
    {
      "cell_type": "code",
      "metadata": {
        "colab": {
          "base_uri": "https://localhost:8080/"
        },
        "id": "qzSfnkImUxiG",
        "outputId": "cce1a658-7cd9-45dd-97ac-18cbb9579ee6"
      },
      "source": [
        "!pip install -Uqq fastbook\n"
      ],
      "execution_count": 1,
      "outputs": [
        {
          "output_type": "stream",
          "text": [
            "\u001b[K     |████████████████████████████████| 727kB 4.2MB/s \n",
            "\u001b[K     |████████████████████████████████| 1.2MB 32.5MB/s \n",
            "\u001b[K     |████████████████████████████████| 194kB 42.4MB/s \n",
            "\u001b[K     |████████████████████████████████| 51kB 5.8MB/s \n",
            "\u001b[K     |████████████████████████████████| 61kB 7.1MB/s \n",
            "\u001b[K     |████████████████████████████████| 61kB 7.1MB/s \n",
            "\u001b[?25h"
          ],
          "name": "stdout"
        }
      ]
    },
    {
      "cell_type": "code",
      "metadata": {
        "id": "KZS4wkPMVcnT"
      },
      "source": [
        "import fastbook\n",
        "fastbook.setup_book()"
      ],
      "execution_count": 2,
      "outputs": []
    },
    {
      "cell_type": "code",
      "metadata": {
        "id": "7gHql7u8Vop8"
      },
      "source": [
        "from fastbook import *\n",
        "from fastai.vision.widgets import *\n",
        "\n",
        "path = Path('gdrive/MyDrive')\n",
        "learn_inf = load_learner(path/'export.pkl', cpu=True)\n",
        "btn_upload = widgets.FileUpload()\n",
        "out_pl = widgets.Output()\n",
        "lbl_pred = widgets.Label()"
      ],
      "execution_count": 11,
      "outputs": []
    },
    {
      "cell_type": "code",
      "metadata": {
        "id": "r3wXCk4odFEd"
      },
      "source": [
        "def on_data_change(change):\n",
        "    lbl_pred.value = ''\n",
        "    img = PILImage.create(btn_upload.data[-1])\n",
        "    out_pl.clear_output()\n",
        "    with out_pl: display(img.to_thumb(128,128))\n",
        "    pred,pred_idx,probs = learn_inf.predict(img)\n",
        "    lbl_pred.value = f'Prediction: {pred}; Probability: {probs[pred_idx]:.04f}'"
      ],
      "execution_count": 12,
      "outputs": []
    },
    {
      "cell_type": "code",
      "metadata": {
        "id": "-3IpTRbHdHtn"
      },
      "source": [
        "btn_upload.observe(on_data_change, names=['data'])"
      ],
      "execution_count": 13,
      "outputs": []
    },
    {
      "cell_type": "code",
      "metadata": {
        "colab": {
          "base_uri": "https://localhost:8080/",
          "height": 252,
          "referenced_widgets": [
            "220502387c694b9189cc2e783e9ceb26",
            "5a922dd006c74e94afb7d59249c7bddf",
            "a294fcdaf9d142149406a4e74d98918b",
            "021a94bf04164f8a9be80d92ff2d9e97",
            "84e6e0de31344d88961555718a02ea82",
            "779378193a9c47d99332504d120d5bfd",
            "d5897a2343f84691b8c014dc8db8ad71",
            "702fa22887a24c438f28854a406ac94b",
            "50d1759786934d2d8f98081440021571",
            "1cdf16d6cfa2455e94fb9bbdc003888e",
            "7d5d1c91f1ee4655a175b353d0b1c98a",
            "1826b397c0eb43b18a68d328f929d052",
            "48081550fd7d44508a4268097817be28"
          ]
        },
        "id": "miKsjDuLdKZ2",
        "outputId": "6bfcaac8-4bce-43a5-fdb9-2531ae84f77e"
      },
      "source": [
        "display(VBox([widgets.Label('Man or Woman?'), btn_upload, out_pl, lbl_pred]))\n"
      ],
      "execution_count": 15,
      "outputs": [
        {
          "output_type": "display_data",
          "data": {
            "application/vnd.jupyter.widget-view+json": {
              "model_id": "220502387c694b9189cc2e783e9ceb26",
              "version_minor": 0,
              "version_major": 2
            },
            "text/plain": [
              "VBox(children=(Label(value='Man or Woman?'), FileUpload(value={}, description='Upload'), Output(), Label(value…"
            ]
          },
          "metadata": {
            "tags": []
          }
        },
        {
          "output_type": "display_data",
          "data": {
            "text/html": [
              ""
            ],
            "text/plain": [
              "<IPython.core.display.HTML object>"
            ]
          },
          "metadata": {
            "tags": []
          }
        },
        {
          "output_type": "stream",
          "text": [
            "/usr/local/lib/python3.7/dist-packages/torch/nn/functional.py:718: UserWarning: Named tensors and all their associated APIs are an experimental feature and subject to change. Please do not use them for anything important until they are released as stable. (Triggered internally at  /pytorch/c10/core/TensorImpl.h:1156.)\n",
            "  return torch.max_pool2d(input, kernel_size, stride, padding, dilation, ceil_mode)\n"
          ],
          "name": "stderr"
        },
        {
          "output_type": "display_data",
          "data": {
            "text/html": [
              ""
            ],
            "text/plain": [
              "<IPython.core.display.HTML object>"
            ]
          },
          "metadata": {
            "tags": []
          }
        }
      ]
    },
    {
      "cell_type": "code",
      "metadata": {
        "id": "f-JtjhE0d4zi"
      },
      "source": [
        "!pip install voila\n",
        "!jupyter serverextension enable --sys-prefix voila"
      ],
      "execution_count": null,
      "outputs": []
    }
  ]
}